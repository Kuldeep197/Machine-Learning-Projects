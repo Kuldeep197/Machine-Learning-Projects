{
 "cells": [
  {
   "cell_type": "markdown",
   "metadata": {},
   "source": [
    "# Disease Identification by Random Forest"
   ]
  },
  {
   "cell_type": "markdown",
   "metadata": {},
   "source": [
    "## Linear Algebra"
   ]
  },
  {
   "cell_type": "code",
   "execution_count": 1,
   "metadata": {},
   "outputs": [],
   "source": [
    "import numpy as np"
   ]
  },
  {
   "cell_type": "markdown",
   "metadata": {},
   "source": [
    "## Data preprocessing"
   ]
  },
  {
   "cell_type": "code",
   "execution_count": 3,
   "metadata": {},
   "outputs": [],
   "source": [
    "import pandas as pd"
   ]
  },
  {
   "cell_type": "markdown",
   "metadata": {},
   "source": [
    "## Algorithms"
   ]
  },
  {
   "cell_type": "code",
   "execution_count": 4,
   "metadata": {},
   "outputs": [],
   "source": [
    "from sklearn.ensemble import RandomForestClassifier\n",
    "\n",
    "from sklearn.model_selection import train_test_split\n",
    "from sklearn.preprocessing import StandardScaler"
   ]
  },
  {
   "cell_type": "markdown",
   "metadata": {},
   "source": [
    "## getting the data from the file"
   ]
  },
  {
   "cell_type": "code",
   "execution_count": 5,
   "metadata": {},
   "outputs": [],
   "source": [
    "df= pd.read_csv(\"C:/Users/sharm/OneDrive/Desktop/Machine Learning pro/prodata.data\", names =  [\"erythema\", \"scaling\", \"definite borders\", \"itching\", \"koebner phenomenon\", \"polygonal papules\", \"follicular papules\", \"oral mucosal involvement\", \"knee and elbow involvement\", \"scalp involvement\", \"family history\", \"melanin incontinence\", \"eosinophils in the infiltrate\", \"PNL infiltrate\", \"fibrosis of the papillary dermis\", \"exocytosis\", \"acanthosis\", \"hyperkeratosis\", \"parakeratosis\", \"clubbing of the rete ridges\", \"thinning of the suprapapillary epidermis\", \"spongiform pustule\", \"Age\", \"class\"])\n"
   ]
  },
  {
   "cell_type": "code",
   "execution_count": 6,
   "metadata": {},
   "outputs": [
    {
     "name": "stdout",
     "output_type": "stream",
     "text": [
      "<class 'pandas.core.frame.DataFrame'>\n",
      "MultiIndex: 366 entries, (2, 2, 0, 3, 0, 0, 0, 0, 1, 0, 0) to (3, 2, 2, 0, 0, 0, 0, 0, 3, 3, 0)\n",
      "Data columns (total 24 columns):\n",
      "erythema                                    366 non-null int64\n",
      "scaling                                     366 non-null int64\n",
      "definite borders                            366 non-null int64\n",
      "itching                                     366 non-null int64\n",
      "koebner phenomenon                          366 non-null int64\n",
      "polygonal papules                           366 non-null int64\n",
      "follicular papules                          366 non-null int64\n",
      "oral mucosal involvement                    366 non-null int64\n",
      "knee and elbow involvement                  366 non-null int64\n",
      "scalp involvement                           366 non-null int64\n",
      "family history                              366 non-null int64\n",
      "melanin incontinence                        366 non-null int64\n",
      "eosinophils in the infiltrate               366 non-null int64\n",
      "PNL infiltrate                              366 non-null int64\n",
      "fibrosis of the papillary dermis            366 non-null int64\n",
      "exocytosis                                  366 non-null int64\n",
      "acanthosis                                  366 non-null int64\n",
      "hyperkeratosis                              366 non-null int64\n",
      "parakeratosis                               366 non-null int64\n",
      "clubbing of the rete ridges                 366 non-null int64\n",
      "thinning of the suprapapillary epidermis    366 non-null int64\n",
      "spongiform pustule                          366 non-null int64\n",
      "Age                                         366 non-null object\n",
      "class                                       366 non-null int64\n",
      "dtypes: int64(23), object(1)\n",
      "memory usage: 73.1+ KB\n",
      "None\n"
     ]
    }
   ],
   "source": [
    "print(df.info())"
   ]
  },
  {
   "cell_type": "code",
   "execution_count": 7,
   "metadata": {},
   "outputs": [
    {
     "name": "stdout",
     "output_type": "stream",
     "text": [
      "         erythema     scaling  definite borders     itching  \\\n",
      "count  366.000000  366.000000        366.000000  366.000000   \n",
      "mean     0.404372    0.139344          0.546448    0.336066   \n",
      "std      0.869818    0.411790          0.815451    0.853139   \n",
      "min      0.000000    0.000000          0.000000    0.000000   \n",
      "25%      0.000000    0.000000          0.000000    0.000000   \n",
      "50%      0.000000    0.000000          0.000000    0.000000   \n",
      "75%      0.000000    0.000000          1.000000    0.000000   \n",
      "max      3.000000    2.000000          3.000000    3.000000   \n",
      "\n",
      "       koebner phenomenon  polygonal papules  follicular papules  \\\n",
      "count          366.000000         366.000000          366.000000   \n",
      "mean             1.368852           1.956284            0.527322   \n",
      "std              1.104418           0.712512            0.757116   \n",
      "min              0.000000           0.000000            0.000000   \n",
      "25%              0.000000           2.000000            0.000000   \n",
      "50%              2.000000           2.000000            0.000000   \n",
      "75%              2.000000           2.000000            1.000000   \n",
      "max              3.000000           3.000000            3.000000   \n",
      "\n",
      "       oral mucosal involvement  knee and elbow involvement  \\\n",
      "count                366.000000                  366.000000   \n",
      "mean                   1.289617                    0.663934   \n",
      "std                    0.917562                    1.056829   \n",
      "min                    0.000000                    0.000000   \n",
      "25%                    1.000000                    0.000000   \n",
      "50%                    1.000000                    0.000000   \n",
      "75%                    2.000000                    2.000000   \n",
      "max                    3.000000                    3.000000   \n",
      "\n",
      "       scalp involvement     ...      PNL infiltrate  \\\n",
      "count         366.000000     ...          366.000000   \n",
      "mean            0.991803     ...            0.393443   \n",
      "std             1.162161     ...            0.849406   \n",
      "min             0.000000     ...            0.000000   \n",
      "25%             0.000000     ...            0.000000   \n",
      "50%             0.000000     ...            0.000000   \n",
      "75%             2.000000     ...            0.000000   \n",
      "max             3.000000     ...            3.000000   \n",
      "\n",
      "       fibrosis of the papillary dermis  exocytosis  acanthosis  \\\n",
      "count                        366.000000  366.000000  366.000000   \n",
      "mean                           0.464481    0.456284    0.953552   \n",
      "std                            0.864899    0.954873    1.130172   \n",
      "min                            0.000000    0.000000    0.000000   \n",
      "25%                            0.000000    0.000000    0.000000   \n",
      "50%                            0.000000    0.000000    0.000000   \n",
      "75%                            1.000000    0.000000    2.000000   \n",
      "max                            3.000000    3.000000    3.000000   \n",
      "\n",
      "       hyperkeratosis  parakeratosis  clubbing of the rete ridges  \\\n",
      "count      366.000000     366.000000                   366.000000   \n",
      "mean         0.453552       0.103825                     0.114754   \n",
      "std          0.954744       0.450433                     0.488723   \n",
      "min          0.000000       0.000000                     0.000000   \n",
      "25%          0.000000       0.000000                     0.000000   \n",
      "50%          0.000000       0.000000                     0.000000   \n",
      "75%          0.000000       0.000000                     0.000000   \n",
      "max          3.000000       3.000000                     3.000000   \n",
      "\n",
      "       thinning of the suprapapillary epidermis  spongiform pustule  \\\n",
      "count                                366.000000          366.000000   \n",
      "mean                                   1.866120            0.554645   \n",
      "std                                    0.726108            1.105908   \n",
      "min                                    0.000000            0.000000   \n",
      "25%                                    1.000000            0.000000   \n",
      "50%                                    2.000000            0.000000   \n",
      "75%                                    2.000000            0.000000   \n",
      "max                                    3.000000            3.000000   \n",
      "\n",
      "            class  \n",
      "count  366.000000  \n",
      "mean     2.803279  \n",
      "std      1.597803  \n",
      "min      1.000000  \n",
      "25%      1.000000  \n",
      "50%      3.000000  \n",
      "75%      4.000000  \n",
      "max      6.000000  \n",
      "\n",
      "[8 rows x 23 columns]\n"
     ]
    }
   ],
   "source": [
    "print(df.describe())"
   ]
  },
  {
   "cell_type": "code",
   "execution_count": 8,
   "metadata": {},
   "outputs": [
    {
     "name": "stdout",
     "output_type": "stream",
     "text": [
      "                       erythema  scaling  definite borders  itching  \\\n",
      "2 2 0 3 0 0 0 0 1 0 0         0        0                 0        0   \n",
      "3 3 3 2 1 0 0 0 1 1 1         0        0                 1        0   \n",
      "2 1 2 3 1 3 0 3 0 0 0         1        0                 0        0   \n",
      "  2 2 0 0 0 0 0 3 2 0         0        0                 3        0   \n",
      "  3 2 2 2 2 0 2 0 0 0         1        0                 0        0   \n",
      "      0 0 0 0 0 0 0 0         0        2                 1        0   \n",
      "  1 0 2 0 0 0 0 0 0 0         0        0                 0        3   \n",
      "  2 3 3 3 3 0 2 0 0 0         2        0                 0        0   \n",
      "    1 0 2 0 0 0 0 0 0         0        0                 0        0   \n",
      "        1 0 0 0 0 0 0         0        0                 0        0   \n",
      "3 3 2 1 1 0 0 0 2 2 1         0        0                 0        0   \n",
      "2 2 0 3 0 0 0 0 0 0 0         0        0                 2        0   \n",
      "3 3 1 2 0 0 0 0 0 1 0         0        0                 2        0   \n",
      "2 3 3 0 0 0 0 0 1 1 1         0        0                 1        0   \n",
      "  2 3 3 0 3 0 2 0 0 0         2        0                 0        0   \n",
      "\n",
      "                       koebner phenomenon  polygonal papules  \\\n",
      "2 2 0 3 0 0 0 0 1 0 0                   3                  2   \n",
      "3 3 3 2 1 0 0 0 1 1 1                   1                  2   \n",
      "2 1 2 3 1 3 0 3 0 0 0                   1                  2   \n",
      "  2 2 0 0 0 0 0 3 2 0                   0                  2   \n",
      "  3 2 2 2 2 0 2 0 0 0                   1                  2   \n",
      "      0 0 0 0 0 0 0 0                   2                  2   \n",
      "  1 0 2 0 0 0 0 0 0 0                   1                  3   \n",
      "  2 3 3 3 3 0 2 0 0 0                   2                  3   \n",
      "    1 0 2 0 0 0 0 0 0                   2                  1   \n",
      "        1 0 0 0 0 0 0                   3                  2   \n",
      "3 3 2 1 1 0 0 0 2 2 1                   0                  3   \n",
      "2 2 0 3 0 0 0 0 0 0 0                   2                  2   \n",
      "3 3 1 2 0 0 0 0 0 1 0                   3                  1   \n",
      "2 3 3 0 0 0 0 0 1 1 1                   0                  2   \n",
      "  2 3 3 0 3 0 2 0 0 0                   1                  1   \n",
      "\n",
      "                       follicular papules  oral mucosal involvement  \\\n",
      "2 2 0 3 0 0 0 0 1 0 0                   0                         0   \n",
      "3 3 3 2 1 0 0 0 1 1 1                   0                         2   \n",
      "2 1 2 3 1 3 0 3 0 0 0                   0                         2   \n",
      "  2 2 0 0 0 0 0 3 2 0                   0                         3   \n",
      "  3 2 2 2 2 0 2 0 0 0                   0                         0   \n",
      "      0 0 0 0 0 0 0 0                   0                         2   \n",
      "  1 0 2 0 0 0 0 0 0 0                   0                         0   \n",
      "  2 3 3 3 3 0 2 0 0 0                   0                         0   \n",
      "    1 0 2 0 0 0 0 0 0                   0                         1   \n",
      "        1 0 0 0 0 0 0                   0                         2   \n",
      "3 3 2 1 1 0 0 0 2 2 1                   2                         3   \n",
      "2 2 0 3 0 0 0 0 0 0 0                   0                         0   \n",
      "3 3 1 2 0 0 0 0 0 1 0                   0                         1   \n",
      "2 3 3 0 0 0 0 0 1 1 1                   1                         2   \n",
      "  2 3 3 0 3 0 2 0 0 0                   1                         1   \n",
      "\n",
      "                       knee and elbow involvement  scalp involvement  ...    \\\n",
      "2 2 0 3 0 0 0 0 1 0 0                           0                  0  ...     \n",
      "3 3 3 2 1 0 0 0 1 1 1                           2                  2  ...     \n",
      "2 1 2 3 1 3 0 3 0 0 0                           0                  0  ...     \n",
      "  2 2 0 0 0 0 0 3 2 0                           2                  2  ...     \n",
      "  3 2 2 2 2 0 2 0 0 0                           0                  0  ...     \n",
      "      0 0 0 0 0 0 0 0                           0                  0  ...     \n",
      "  1 0 2 0 0 0 0 0 0 0                           0                  2  ...     \n",
      "  2 3 3 3 3 0 2 0 0 0                           0                  0  ...     \n",
      "    1 0 2 0 0 0 0 0 0                           0                  0  ...     \n",
      "        1 0 0 0 0 0 0                           0                  0  ...     \n",
      "3 3 2 1 1 0 0 0 2 2 1                           2                  2  ...     \n",
      "2 2 0 3 0 0 0 0 0 0 0                           0                  0  ...     \n",
      "3 3 1 2 0 0 0 0 0 1 0                           0                  0  ...     \n",
      "2 3 3 0 0 0 0 0 1 1 1                           1                  2  ...     \n",
      "  2 3 3 0 3 0 2 0 0 0                           0                  0  ...     \n",
      "\n",
      "                       fibrosis of the papillary dermis  exocytosis  \\\n",
      "2 2 0 3 0 0 0 0 1 0 0                                 0           0   \n",
      "3 3 3 2 1 0 0 0 1 1 1                                 0           0   \n",
      "2 1 2 3 1 3 0 3 0 0 0                                 0           2   \n",
      "  2 2 0 0 0 0 0 3 2 0                                 3           0   \n",
      "  3 2 2 2 2 0 2 0 0 0                                 2           3   \n",
      "      0 0 0 0 0 0 0 0                                 0           0   \n",
      "  1 0 2 0 0 0 0 0 0 0                                 0           0   \n",
      "  2 3 3 3 3 0 2 0 0 0                                 2           2   \n",
      "    1 0 2 0 0 0 0 0 0                                 0           0   \n",
      "        1 0 0 0 0 0 0                                 0           0   \n",
      "3 3 2 1 1 0 0 0 2 2 1                                 0           0   \n",
      "2 2 0 3 0 0 0 0 0 0 0                                 0           0   \n",
      "3 3 1 2 0 0 0 0 0 1 0                                 0           0   \n",
      "2 3 3 0 0 0 0 0 1 1 1                                 0           0   \n",
      "  2 3 3 0 3 0 2 0 0 0                                 0           3   \n",
      "\n",
      "                       acanthosis  hyperkeratosis  parakeratosis  \\\n",
      "2 2 0 3 0 0 0 0 1 0 0           3               0              0   \n",
      "3 3 3 2 1 0 0 0 1 1 1           0               0              0   \n",
      "2 1 2 3 1 3 0 3 0 0 0           3               2              0   \n",
      "  2 2 0 0 0 0 0 3 2 0           0               0              0   \n",
      "  3 2 2 2 2 0 2 0 0 0           2               3              0   \n",
      "      0 0 0 0 0 0 0 0           2               0              0   \n",
      "  1 0 2 0 0 0 0 0 0 0           0               0              0   \n",
      "  2 3 3 3 3 0 2 0 0 0           3               2              0   \n",
      "    1 0 2 0 0 0 0 0 0           2               0              0   \n",
      "        1 0 0 0 0 0 0           2               0              0   \n",
      "3 3 2 1 1 0 0 0 2 2 1           0               0              0   \n",
      "2 2 0 3 0 0 0 0 0 0 0           3               0              0   \n",
      "3 3 1 2 0 0 0 0 0 1 0           2               0              0   \n",
      "2 3 3 0 0 0 0 0 1 1 1           0               0              0   \n",
      "  2 3 3 0 3 0 2 0 0 0           0               3              0   \n",
      "\n",
      "                       clubbing of the rete ridges  \\\n",
      "2 2 0 3 0 0 0 0 1 0 0                            0   \n",
      "3 3 3 2 1 0 0 0 1 1 1                            0   \n",
      "2 1 2 3 1 3 0 3 0 0 0                            0   \n",
      "  2 2 0 0 0 0 0 3 2 0                            0   \n",
      "  3 2 2 2 2 0 2 0 0 0                            0   \n",
      "      0 0 0 0 0 0 0 0                            0   \n",
      "  1 0 2 0 0 0 0 0 0 0                            0   \n",
      "  2 3 3 3 3 0 2 0 0 0                            0   \n",
      "    1 0 2 0 0 0 0 0 0                            0   \n",
      "        1 0 0 0 0 0 0                            0   \n",
      "3 3 2 1 1 0 0 0 2 2 1                            0   \n",
      "2 2 0 3 0 0 0 0 0 0 0                            0   \n",
      "3 3 1 2 0 0 0 0 0 1 0                            0   \n",
      "2 3 3 0 0 0 0 0 1 1 1                            0   \n",
      "  2 3 3 0 3 0 2 0 0 0                            0   \n",
      "\n",
      "                       thinning of the suprapapillary epidermis  \\\n",
      "2 2 0 3 0 0 0 0 1 0 0                                         1   \n",
      "3 3 3 2 1 0 0 0 1 1 1                                         1   \n",
      "2 1 2 3 1 3 0 3 0 0 0                                         2   \n",
      "  2 2 0 0 0 0 0 3 2 0                                         3   \n",
      "  3 2 2 2 2 0 2 0 0 0                                         2   \n",
      "      0 0 0 0 0 0 0 0                                         1   \n",
      "  1 0 2 0 0 0 0 0 0 0                                         2   \n",
      "  2 3 3 3 3 0 2 0 0 0                                         3   \n",
      "    1 0 2 0 0 0 0 0 0                                         2   \n",
      "        1 0 0 0 0 0 0                                         2   \n",
      "3 3 2 1 1 0 0 0 2 2 1                                         1   \n",
      "2 2 0 3 0 0 0 0 0 0 0                                         1   \n",
      "3 3 1 2 0 0 0 0 0 1 0                                         1   \n",
      "2 3 3 0 0 0 0 0 1 1 1                                         2   \n",
      "  2 3 3 0 3 0 2 0 0 0                                         1   \n",
      "\n",
      "                       spongiform pustule  Age  class  \n",
      "2 2 0 3 0 0 0 0 1 0 0                   0   55      2  \n",
      "3 3 3 2 1 0 0 0 1 1 1                   0    8      1  \n",
      "2 1 2 3 1 3 0 3 0 0 0                   3   26      3  \n",
      "  2 2 0 0 0 0 0 3 2 0                   0   40      1  \n",
      "  3 2 2 2 2 0 2 0 0 0                   3   45      3  \n",
      "      0 0 0 0 0 0 0 0                   0   41      2  \n",
      "  1 0 2 0 0 0 0 0 0 0                   0   18      5  \n",
      "  2 3 3 3 3 0 2 0 0 0                   3   57      3  \n",
      "    1 0 2 0 0 0 0 0 0                   0   22      4  \n",
      "        1 0 0 0 0 0 0                   0   30      4  \n",
      "3 3 2 1 1 0 0 0 2 2 1                   0   20      1  \n",
      "2 2 0 3 0 0 0 0 0 0 0                   0   21      2  \n",
      "3 3 1 2 0 0 0 0 0 1 0                   0   22      2  \n",
      "2 3 3 0 0 0 0 0 1 1 1                   0   10      1  \n",
      "  2 3 3 0 3 0 2 0 0 0                   3   65      3  \n",
      "\n",
      "[15 rows x 24 columns]\n"
     ]
    }
   ],
   "source": [
    "print(df.head(15))"
   ]
  },
  {
   "cell_type": "markdown",
   "metadata": {},
   "source": [
    "## Dealing with the missing values"
   ]
  },
  {
   "cell_type": "code",
   "execution_count": 9,
   "metadata": {},
   "outputs": [
    {
     "name": "stdout",
     "output_type": "stream",
     "text": [
      "Missing values\n",
      "8\n"
     ]
    }
   ],
   "source": [
    "print(\"Missing values\")\n",
    "print((df[\"Age\"] == \"?\").sum())"
   ]
  },
  {
   "cell_type": "code",
   "execution_count": 10,
   "metadata": {},
   "outputs": [],
   "source": [
    "df[[\"Age\"]] = df[[\"Age\"]].replace(\"?\", np.NaN)"
   ]
  },
  {
   "cell_type": "code",
   "execution_count": 11,
   "metadata": {},
   "outputs": [],
   "source": [
    "# drop rows with missing values\n",
    "df.dropna(inplace=True)"
   ]
  },
  {
   "cell_type": "code",
   "execution_count": 12,
   "metadata": {},
   "outputs": [
    {
     "name": "stdout",
     "output_type": "stream",
     "text": [
      "(358, 24)\n"
     ]
    }
   ],
   "source": [
    "# summarize the number of rows and columns in the dataset\n",
    "print(df.shape)"
   ]
  },
  {
   "cell_type": "code",
   "execution_count": 13,
   "metadata": {},
   "outputs": [
    {
     "name": "stdout",
     "output_type": "stream",
     "text": [
      "Missing values\n",
      "0\n"
     ]
    }
   ],
   "source": [
    "print(\"Missing values\")\n",
    "print((df[\"Age\"] == \"?\").sum())"
   ]
  },
  {
   "cell_type": "markdown",
   "metadata": {},
   "source": [
    "## Preaparing data for Training"
   ]
  },
  {
   "cell_type": "code",
   "execution_count": 14,
   "metadata": {},
   "outputs": [],
   "source": [
    "data = df.iloc[:, 0:-1].values\n",
    "target = df.iloc[:, -1].values\n"
   ]
  },
  {
   "cell_type": "markdown",
   "metadata": {},
   "source": [
    "## Splitting the data "
   ]
  },
  {
   "cell_type": "code",
   "execution_count": 15,
   "metadata": {},
   "outputs": [],
   "source": [
    "data_train,data_test,target_train,target_test = train_test_split(data,target,test_size = 0.3, random_state = 0)\n"
   ]
  },
  {
   "cell_type": "markdown",
   "metadata": {},
   "source": [
    "## Feature Scaling"
   ]
  },
  {
   "cell_type": "code",
   "execution_count": 16,
   "metadata": {},
   "outputs": [
    {
     "name": "stderr",
     "output_type": "stream",
     "text": [
      "C:\\Users\\sharm\\Anaconda3\\lib\\site-packages\\sklearn\\utils\\validation.py:475: DataConversionWarning: Data with input dtype object was converted to float64 by StandardScaler.\n",
      "  warnings.warn(msg, DataConversionWarning)\n"
     ]
    }
   ],
   "source": [
    "sc = StandardScaler()\n",
    "data_train = sc.fit_transform(data_train)\n",
    "data_test  = sc.fit_transform(data_test)\n"
   ]
  },
  {
   "cell_type": "markdown",
   "metadata": {},
   "source": [
    "## Training the Model"
   ]
  },
  {
   "cell_type": "code",
   "execution_count": 17,
   "metadata": {},
   "outputs": [
    {
     "name": "stdout",
     "output_type": "stream",
     "text": [
      "Accuracy of Random forest with 3 estimators\n",
      "97.6 %\n"
     ]
    }
   ],
   "source": [
    "#Training the model\n",
    "random_forest = RandomForestClassifier(n_estimators = 3)\n",
    "random_forest.fit(data_train, target_train)\n",
    "\n",
    "prediction_forest = random_forest.predict(data_test)\n",
    "\n",
    "accuracy = round( random_forest.score(data_train, target_train)*100 , 2)\n",
    "print(\"Accuracy of Random forest with 3 estimators\")\n",
    "print(round(accuracy, 2), \"%\")\n",
    "\n"
   ]
  },
  {
   "cell_type": "markdown",
   "metadata": {},
   "source": [
    "## Checking for the best no. of estimators"
   ]
  },
  {
   "cell_type": "code",
   "execution_count": 21,
   "metadata": {},
   "outputs": [
    {
     "name": "stdout",
     "output_type": "stream",
     "text": [
      "Best no. of Estimators are 10\n"
     ]
    }
   ],
   "source": [
    "max=0\n",
    "accu_list = []\n",
    "for i in range (1,101):\n",
    "    random_forest = RandomForestClassifier(n_estimators = i)\n",
    "    random_forest.fit(data_train, target_train)\n",
    "    prediction_forest = random_forest.predict(data_test)\n",
    "    accuracy = round( random_forest.score(data_train, target_train)*100 , 2)\n",
    "    accu_list.append(round(accuracy,2))\n",
    "    if max < round(accuracy,2):\n",
    "        max = round(accuracy,2)\n",
    "        no = i\n",
    "print(\"Best no. of Estimators are\",no)\n",
    "\n"
   ]
  },
  {
   "cell_type": "markdown",
   "metadata": {},
   "source": [
    "## Visualize the Accuracy"
   ]
  },
  {
   "cell_type": "code",
   "execution_count": 30,
   "metadata": {},
   "outputs": [
    {
     "name": "stdout",
     "output_type": "stream",
     "text": [
      "Current size: [6.0, 4.0]\n"
     ]
    }
   ],
   "source": [
    "import matplotlib.pyplot as plt\n",
    "# Get current size\n",
    "fig_size = plt.rcParams[\"figure.figsize\"]\n",
    " \n",
    "# Prints: [8.0, 6.0]\n",
    "print (\"Current size:\", fig_size)\n",
    " \n",
    "# Set figure width to 12 and height to 9\n",
    "fig_size[0] = 12\n",
    "fig_size[1] = 9\n",
    "plt.rcParams[\"figure.figsize\"] = fig_size"
   ]
  },
  {
   "cell_type": "code",
   "execution_count": 31,
   "metadata": {},
   "outputs": [
    {
     "data": {
      "image/png": "[encoded data removed]",
      "text/plain": [
       "<Figure size 864x648 with 1 Axes>"
      ]
     },
     "metadata": {},
     "output_type": "display_data"
    }
   ],
   "source": [
    "plt.plot(accu_list,'o-')\n",
    "plt.xlabel(\"No. of estimators\")\n",
    "plt.ylabel(\"Accuracy\")\n",
    "\n",
    "plt.show()"
   ]
  },
  {
   "cell_type": "code",
   "execution_count": null,
   "metadata": {},
   "outputs": [],
   "source": []
  }
 ],
 "metadata": {
  "kernelspec": {
   "display_name": "Python 3",
   "language": "python",
   "name": "python3"
  },
  "language_info": {
   "codemirror_mode": {
    "name": "ipython",
    "version": 3
   },
   "file_extension": ".py",
   "mimetype": "text/x-python",
   "name": "python",
   "nbconvert_exporter": "python",
   "pygments_lexer": "ipython3",
   "version": "3.6.5"
  }
 },
 "nbformat": 4,
 "nbformat_minor": 2
}
